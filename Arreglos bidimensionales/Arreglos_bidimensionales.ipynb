{
  "nbformat": 4,
  "nbformat_minor": 0,
  "metadata": {
    "colab": {
      "name": "Arreglos bidimensionales.ipynb",
      "provenance": []
    },
    "kernelspec": {
      "name": "python3",
      "display_name": "Python 3"
    },
    "language_info": {
      "name": "python"
    }
  },
  "cells": [
    {
      "cell_type": "code",
      "execution_count": 6,
      "metadata": {
        "colab": {
          "base_uri": "https://localhost:8080/"
        },
        "id": "LFZIRsRILUTh",
        "outputId": "57d6880a-df56-4ef6-bceb-e1cfb9faa920"
      },
      "outputs": [
        {
          "output_type": "stream",
          "name": "stdout",
          "text": [
            "[[  2  -5 -11   0]\n",
            " [ -9   4   6  13]\n",
            " [  4   7  12  -2]]\n",
            "4\n",
            "13\n",
            "-11\n"
          ]
        }
      ],
      "source": [
        "import numpy as np\n",
        "\n",
        "matriz = np.array(\n",
        "  [\n",
        "    [2,-5,-11,0],\n",
        "    [-9,4,6,13],\n",
        "    [4,7,12,-2]\n",
        "  ]\n",
        ")\n",
        "print(matriz)\n",
        "print(matriz[1][1])\n",
        "print(matriz[1][3])\n",
        "print(matriz[0][2])"
      ]
    },
    {
      "cell_type": "code",
      "source": [
        "lista = [\n",
        "  [2,-5,-11,0],\n",
        "  [-9,4,6,13],\n",
        "  [4,7,12,-2]\n",
        "]\n",
        "matriz = np.array(lista)\n",
        "print(matriz)\n",
        "\n",
        "print(lista[1][3])\n",
        "print(matriz[1][3])"
      ],
      "metadata": {
        "colab": {
          "base_uri": "https://localhost:8080/"
        },
        "id": "4L5HmD2gMb4G",
        "outputId": "19651263-d1ce-4eca-aacf-fc07a895af42"
      },
      "execution_count": 9,
      "outputs": [
        {
          "output_type": "stream",
          "name": "stdout",
          "text": [
            "[[  2  -5 -11   0]\n",
            " [ -9   4   6  13]\n",
            " [  4   7  12  -2]]\n",
            "13\n",
            "13\n"
          ]
        }
      ]
    },
    {
      "cell_type": "code",
      "source": [
        "matriz = np.array(\n",
        "  [\n",
        "    [2,-5,-11,0],\n",
        "    [-9,4,6,13],\n",
        "    [4,7,12,-2]\n",
        "  ]\n",
        ")\n",
        "\n",
        "print(matriz[0][3])\n",
        "print(matriz[0,3])"
      ],
      "metadata": {
        "colab": {
          "base_uri": "https://localhost:8080/"
        },
        "id": "2wVjwxt9NJtu",
        "outputId": "761c25f2-cb9e-45a8-abfd-0865e4d329a2"
      },
      "execution_count": 11,
      "outputs": [
        {
          "output_type": "stream",
          "name": "stdout",
          "text": [
            "0\n",
            "0\n",
            "2\n",
            "-5\n",
            "-11\n",
            "0\n",
            "-9\n",
            "4\n",
            "6\n",
            "13\n",
            "4\n",
            "7\n",
            "12\n",
            "-2\n"
          ]
        }
      ]
    },
    {
      "cell_type": "code",
      "source": [
        "for fila in matriz:\n",
        "  for celda in fila:\n",
        "    print(celda)"
      ],
      "metadata": {
        "colab": {
          "base_uri": "https://localhost:8080/"
        },
        "id": "hObnMVVgNo7X",
        "outputId": "26e74d76-92f6-48af-b0a8-0b77da22f307"
      },
      "execution_count": 15,
      "outputs": [
        {
          "output_type": "stream",
          "name": "stdout",
          "text": [
            "2\n",
            "-5\n",
            "-11\n",
            "0\n",
            "-9\n",
            "4\n",
            "6\n",
            "13\n",
            "4\n",
            "7\n",
            "12\n",
            "-2\n"
          ]
        }
      ]
    },
    {
      "cell_type": "code",
      "source": [
        "for i in range(len(matriz)):\n",
        "  for j in range(len(matriz[i])):\n",
        "    print(f\"({i},{j}): {matriz[i,j]}\")"
      ],
      "metadata": {
        "colab": {
          "base_uri": "https://localhost:8080/"
        },
        "id": "ydjI3SqBOHI1",
        "outputId": "344a9057-e39b-4028-a706-34e91e511f04"
      },
      "execution_count": 17,
      "outputs": [
        {
          "output_type": "stream",
          "name": "stdout",
          "text": [
            "(0,0): 2\n",
            "(0,1): -5\n",
            "(0,2): -11\n",
            "(0,3): 0\n",
            "(1,0): -9\n",
            "(1,1): 4\n",
            "(1,2): 6\n",
            "(1,3): 13\n",
            "(2,0): 4\n",
            "(2,1): 7\n",
            "(2,2): 12\n",
            "(2,3): -2\n"
          ]
        }
      ]
    },
    {
      "cell_type": "code",
      "source": [
        "ejemplo = np.array([\n",
        "      [\n",
        "       [1],[2]\n",
        "      ],\n",
        "      [\n",
        "       [3],[4]\n",
        "      ]\n",
        "    ])\n",
        "print(ejemplo)\n",
        "print(ejemplo.ndim)"
      ],
      "metadata": {
        "colab": {
          "base_uri": "https://localhost:8080/"
        },
        "id": "Z56iORo7Oo92",
        "outputId": "7bb461ae-2632-442a-c219-39aa20dbdc3a"
      },
      "execution_count": 21,
      "outputs": [
        {
          "output_type": "stream",
          "name": "stdout",
          "text": [
            "[[[1]\n",
            "  [2]]\n",
            "\n",
            " [[3]\n",
            "  [4]]]\n",
            "3\n"
          ]
        }
      ]
    }
  ]
}