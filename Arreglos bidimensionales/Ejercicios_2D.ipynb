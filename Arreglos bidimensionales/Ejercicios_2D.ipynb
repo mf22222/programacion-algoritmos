{
  "nbformat": 4,
  "nbformat_minor": 0,
  "metadata": {
    "colab": {
      "name": "Ejercicios 2D.ipynb",
      "provenance": [],
      "collapsed_sections": []
    },
    "kernelspec": {
      "name": "python3",
      "display_name": "Python 3"
    },
    "language_info": {
      "name": "python"
    }
  },
  "cells": [
    {
      "cell_type": "markdown",
      "source": [
        "Crear dos arreglos de dos dimensiones de tamaño 3 x 3, con elementos de tipo numérico entero, luego:\n",
        "Muestra la matriz 1.\n",
        "Muestra la matriz 2.\n",
        "Muestre la matriz resultante de la multiplicación de la matriz 1 y matriz 2.\n"
      ],
      "metadata": {
        "id": "6iLQH5123eWy"
      }
    },
    {
      "cell_type": "code",
      "execution_count": null,
      "metadata": {
        "colab": {
          "base_uri": "https://localhost:8080/"
        },
        "id": "Cs-JkcJ03WsP",
        "outputId": "f1e21791-4129-4963-a274-5010eebfb21d"
      },
      "outputs": [
        {
          "output_type": "stream",
          "name": "stdout",
          "text": [
            "[[1. 1. 1.]\n",
            " [1. 1. 1.]\n",
            " [1. 1. 1.]]\n",
            "[[7 6 8]\n",
            " [8 4 6]\n",
            " [8 4 5]]\n",
            "[[7. 6. 8.]\n",
            " [8. 4. 6.]\n",
            " [8. 4. 5.]]\n"
          ]
        }
      ],
      "source": [
        "import numpy as np\n",
        "\n",
        "#matriz1 = np.array([[0,0,0],[0,0,0], [0,0,0]])\n",
        "matriz1 = np.ones((3,3))\n",
        "matriz2 = np.random.randint(9, size=(3,3))\n",
        "print(matriz1)\n",
        "print(matriz2)\n",
        "# print(type(matriz1[0][0])) # porque sae el 1 con un punto\n",
        "\n",
        "print(matriz1*matriz2)"
      ]
    },
    {
      "cell_type": "code",
      "source": [
        "val1=268.0\n",
        "val2=0.0125\n",
        "mult=val1*val2\n",
        "print(mult)"
      ],
      "metadata": {
        "colab": {
          "base_uri": "https://localhost:8080/"
        },
        "id": "cNr9jNwd6T5P",
        "outputId": "9ad94a67-dee4-4439-d437-a03018efa135"
      },
      "execution_count": null,
      "outputs": [
        {
          "output_type": "stream",
          "name": "stdout",
          "text": [
            "3.35\n"
          ]
        }
      ]
    },
    {
      "cell_type": "markdown",
      "source": [
        "Crear un arreglo de dos dimensiones de tamaño 10 y 4,  el cual, simula a un bus. \n",
        "Se pide asignar los números de asiento en forma automática, considerando el siguiente formato:\n",
        " \n",
        "1\t2\t\t3\t4\n",
        "5\t6\t\t7\t8\n",
        "9\t10\t\t11\t12\n",
        "13\t14\t\t15\t16\n",
        "17\t18\t\t19\t20\n",
        "21\t22\t\t23\t24\n",
        "25\t26\t\t27\t28\n",
        "29\t30\t\t31\t32\n",
        "33\t34\t\t35\t36\n",
        "37\t38\t\t39\t40"
      ],
      "metadata": {
        "id": "BpaFQEU560ju"
      }
    },
    {
      "cell_type": "code",
      "source": [
        "bus = np.zeros((10,4))\n",
        "\n",
        "contador = 1\n",
        "for i in range(len(bus)):\n",
        "  for j in range(len(bus[i])):\n",
        "    bus[i][j] = contador\n",
        "    contador += 1\n",
        "\n",
        "print(bus)"
      ],
      "metadata": {
        "colab": {
          "base_uri": "https://localhost:8080/"
        },
        "id": "m-xkt_fG61TW",
        "outputId": "5c19a49f-185e-40e8-af25-ebc550d01fbd"
      },
      "execution_count": null,
      "outputs": [
        {
          "output_type": "stream",
          "name": "stdout",
          "text": [
            "[[ 1.  2.  3.  4.]\n",
            " [ 5.  6.  7.  8.]\n",
            " [ 9. 10. 11. 12.]\n",
            " [13. 14. 15. 16.]\n",
            " [17. 18. 19. 20.]\n",
            " [21. 22. 23. 24.]\n",
            " [25. 26. 27. 28.]\n",
            " [29. 30. 31. 32.]\n",
            " [33. 34. 35. 36.]\n",
            " [37. 38. 39. 40.]]\n"
          ]
        }
      ]
    },
    {
      "cell_type": "markdown",
      "source": [
        "Otra forma de hacerlo menos \"programaticamente\"\n",
        "\n",
        "```\n",
        "bus = [\n",
        "       [1,2,3,4],\n",
        "       [5,6,7,8]\n",
        "       ....\n",
        "]\n",
        "```\n",
        "\n"
      ],
      "metadata": {
        "id": "bpXoDR3Y9f2j"
      }
    },
    {
      "cell_type": "markdown",
      "source": [
        "Crear un arreglo de dos dimensiones de tamaño 4 y 5, con elementos aleatorios de números enteros del 0 al 100, luego:\n",
        "\n",
        "\n",
        "\n",
        "* Mostrar por pantalla la suma de los  elementos de cada fila.\n",
        "* Mostrar por pantalla la suma de los elementos de cada columna.\n",
        "* Mostrar por pantalla la suma de los elementos de la diagonal principal.\n",
        "* Mostrar por pantalla la cantidad de elementos impares.\n"
      ],
      "metadata": {
        "id": "3HBlXIOi9mAk"
      }
    },
    {
      "cell_type": "code",
      "source": [
        "import numpy as np\n",
        "\n",
        "# arreglo de dos dimensiones de tamaño 4 y 5 \n",
        "# con elementos aleatorios de números enteros del 0 al 100,\n",
        "arreglo = np.random.randint(100, size=(4,5))\n",
        "print(arreglo)\n",
        "\n",
        "for fila in arreglo:\n",
        "  print(sum(fila))"
      ],
      "metadata": {
        "colab": {
          "base_uri": "https://localhost:8080/"
        },
        "id": "QMT39fJI924S",
        "outputId": "3485fed1-5192-4b6b-9bad-e527d4165a1e"
      },
      "execution_count": null,
      "outputs": [
        {
          "output_type": "stream",
          "name": "stdout",
          "text": [
            "[[ 1 19  9 55 23]\n",
            " [53 22 43 98 94]\n",
            " [78 70 64  9 78]\n",
            " [43 41 32 86 73]]\n",
            "107\n",
            "310\n",
            "299\n",
            "275\n"
          ]
        }
      ]
    },
    {
      "cell_type": "code",
      "source": [
        "for i in range(5):\n",
        "  print(sum(arreglo[:, i]))"
      ],
      "metadata": {
        "colab": {
          "base_uri": "https://localhost:8080/"
        },
        "id": "2Q7sCIr3_lBz",
        "outputId": "11b2595e-2ff3-420e-e639-82326a194310"
      },
      "execution_count": null,
      "outputs": [
        {
          "output_type": "stream",
          "name": "stdout",
          "text": [
            "227\n",
            "267\n",
            "192\n",
            "190\n",
            "135\n"
          ]
        }
      ]
    },
    {
      "cell_type": "code",
      "source": [
        "acumulador = 0\n",
        "for i in range(4):\n",
        "  acumulador += arreglo[i][i]\n",
        "print(acumulador)"
      ],
      "metadata": {
        "colab": {
          "base_uri": "https://localhost:8080/"
        },
        "id": "cn6eMqxT_9WS",
        "outputId": "98a784fe-51c9-44c0-e978-34ce6bc5d190"
      },
      "execution_count": null,
      "outputs": [
        {
          "output_type": "stream",
          "name": "stdout",
          "text": [
            "182\n"
          ]
        }
      ]
    },
    {
      "cell_type": "code",
      "source": [
        "contador_impares = 0\n",
        "\n",
        "for filas in arreglo:\n",
        "  for celda in fila:\n",
        "    if celda % 2 != 0:\n",
        "      contador_impares += 1\n",
        "print(contador_impares)"
      ],
      "metadata": {
        "colab": {
          "base_uri": "https://localhost:8080/"
        },
        "id": "flp6HlW39-Yj",
        "outputId": "186b0d4b-a99d-4866-f131-4a312602e160"
      },
      "execution_count": null,
      "outputs": [
        {
          "output_type": "stream",
          "name": "stdout",
          "text": [
            "12\n"
          ]
        }
      ]
    }
  ]
}