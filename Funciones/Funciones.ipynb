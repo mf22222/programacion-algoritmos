{
  "nbformat": 4,
  "nbformat_minor": 0,
  "metadata": {
    "colab": {
      "name": "Funciones.ipynb",
      "provenance": []
    },
    "kernelspec": {
      "name": "python3",
      "display_name": "Python 3"
    },
    "language_info": {
      "name": "python"
    }
  },
  "cells": [
    {
      "cell_type": "code",
      "execution_count": 9,
      "metadata": {
        "colab": {
          "base_uri": "https://localhost:8080/"
        },
        "id": "RDQzF_swtbQ5",
        "outputId": "e9a0a5ab-e2af-4527-ec91-5b489145284f"
      },
      "outputs": [
        {
          "output_type": "stream",
          "name": "stdout",
          "text": [
            "Hola mundo!\n",
            "1\n",
            "Hola mundo!\n",
            "1\n",
            "Hola mundo!\n",
            "1\n",
            "Hola mundo!\n",
            "1\n",
            "Hola mundo!\n",
            "1\n"
          ]
        }
      ],
      "source": [
        "def saludar():\n",
        "  contador = 0\n",
        "  print(\"Hola mundo!\")\n",
        "  contador +=1\n",
        "  print(contador)\n",
        "\n",
        "\n",
        "saludar()\n",
        "saludar()\n",
        "saludar()\n",
        "saludar()\n",
        "saludar()"
      ]
    },
    {
      "cell_type": "code",
      "source": [
        "def suma10():\n",
        "  a = 5\n",
        "  b = 5\n",
        "\n",
        "  return a + b\n",
        "\n",
        "resultado_del_retorno = suma10()\n",
        "# print(resultado_del_retorno)\n",
        "\n",
        "print(suma10() + suma10())"
      ],
      "metadata": {
        "colab": {
          "base_uri": "https://localhost:8080/"
        },
        "id": "KGs5Zg5-uw1i",
        "outputId": "e51572c2-07b2-435c-f6a4-5c11507ca84b"
      },
      "execution_count": 13,
      "outputs": [
        {
          "output_type": "stream",
          "name": "stdout",
          "text": [
            "20\n"
          ]
        }
      ]
    },
    {
      "cell_type": "code",
      "source": [
        "def cinco():\n",
        "  return 5\n",
        "\n",
        "print(cinco() + cinco() + cinco())\n",
        "# se reemplaza el retorno -> 5 + 5 + 5"
      ],
      "metadata": {
        "colab": {
          "base_uri": "https://localhost:8080/"
        },
        "id": "txv6shzVvT3K",
        "outputId": "7c48da12-eec2-4acb-9a50-3e252305a1c2"
      },
      "execution_count": 14,
      "outputs": [
        {
          "output_type": "stream",
          "name": "stdout",
          "text": [
            "15\n"
          ]
        }
      ]
    },
    {
      "cell_type": "code",
      "source": [
        "import random\n",
        "\n",
        "def tirar_dado():\n",
        "  return random.randint(1, 6)\n",
        "\n",
        "def tirar_cacho():\n",
        "  suma = 0\n",
        "  for i in range(5):\n",
        "    suma += tirar_dado()\n",
        "  return suma\n",
        "\n",
        "total_ganadasj1 = 0\n",
        "total_ganadasj2 = 0\n",
        "for i in range(5):\n",
        "  jugador1 = tirar_cacho()\n",
        "  jugador2 = tirar_cacho()\n",
        "\n",
        "  if jugador1 > jugador2:\n",
        "    print(f\"Gana el turno jugador 1 con {jugador1} puntos\")\n",
        "    total_ganadasj1 += 1\n",
        "  elif jugador2 > jugador1:\n",
        "    print(f\"Gana el turno jugador 2 con {jugador2} puntos\")\n",
        "    total_ganadasj2 += 1\n",
        "  else:\n",
        "    print(\"Empate\")\n",
        "\n",
        "print(f\"los puntajes fueron:\\nJ1:{jugador1}\\nJ2:{jugador2}\")"
      ],
      "metadata": {
        "colab": {
          "base_uri": "https://localhost:8080/"
        },
        "id": "2iBsGHOevikq",
        "outputId": "7ac3df79-9d62-4ba9-c0e0-8b76d92cb8e6"
      },
      "execution_count": 27,
      "outputs": [
        {
          "output_type": "stream",
          "name": "stdout",
          "text": [
            "Gana el turno jugador 1 con 18 puntos\n",
            "Gana el turno jugador 1 con 20 puntos\n",
            "Gana el turno jugador 2 con 25 puntos\n",
            "Gana el turno jugador 1 con 27 puntos\n",
            "Gana el turno jugador 1 con 22 puntos\n",
            "los puntajes fueron:\n",
            "J1:22\n",
            "J2:15\n"
          ]
        }
      ]
    },
    {
      "cell_type": "code",
      "source": [
        "import random\n",
        "\n",
        "def tirar_dado():\n",
        "  return random.randint(1, 6)\n",
        "\n",
        "def tirar_cacho():\n",
        "  suma = 0\n",
        "  for i in range(5):\n",
        "    suma += tirar_dado()\n",
        "  return suma\n",
        "\n",
        "numero_jugadores = int(input())\n",
        "puntajes_jugadores = []\n",
        "\n",
        "for i in range(numero_jugadores):\n",
        "  puntajes_jugadores.append(tirar_cacho())\n",
        "\n",
        "print(puntajes_jugadores)\n",
        "print(f\"El jugador {puntajes_jugadores.index(max(puntajes_jugadores)) + 1} gana\")\n",
        "\n"
      ],
      "metadata": {
        "colab": {
          "base_uri": "https://localhost:8080/"
        },
        "id": "QCKaI5BnyG9S",
        "outputId": "2bfd6439-3be7-4fb0-fbf3-b2ce68ffc7c1"
      },
      "execution_count": 32,
      "outputs": [
        {
          "output_type": "stream",
          "name": "stdout",
          "text": [
            "20\n",
            "[18, 21, 17, 23, 18, 21, 20, 14, 17, 16, 17, 11, 14, 12, 20, 20, 19, 18, 19, 16]\n",
            "El jugador 4 gana\n"
          ]
        }
      ]
    },
    {
      "cell_type": "code",
      "source": [
        "import random\n",
        "\n",
        "def tirar_dado(n):\n",
        "  return random.randint(1, n)\n",
        "\n",
        "def tirar_cacho(tiradas, n_caras):\n",
        "  suma = 0\n",
        "  for i in range(tiradas):\n",
        "    suma += tirar_dado(n_caras)\n",
        "  return suma\n",
        "\n",
        "caras_dado = int(input())\n",
        "tiradas_dado = int(input())\n",
        "\n",
        "print(tirar_dado(caras_dado)) # tirar_dado(20)\n",
        "print(tirar_cacho(tiradas_dado, caras_dado))\n",
        "print(tirar_cacho(tiradas_dado, caras_dado))\n",
        "print(tirar_cacho(tiradas_dado, caras_dado))\n",
        "print(tirar_cacho(tiradas_dado, caras_dado))\n",
        "print(tirar_cacho(tiradas_dado, caras_dado))"
      ],
      "metadata": {
        "colab": {
          "base_uri": "https://localhost:8080/"
        },
        "id": "BWsoZhx5z8-K",
        "outputId": "a93f9854-13a9-4fa9-f600-68c926c88baf"
      },
      "execution_count": 37,
      "outputs": [
        {
          "output_type": "stream",
          "name": "stdout",
          "text": [
            "10\n",
            "100\n",
            "7\n",
            "567\n",
            "601\n",
            "552\n",
            "542\n",
            "554\n"
          ]
        }
      ]
    },
    {
      "cell_type": "code",
      "source": [
        "def argumentos_dinamicos(*args):\n",
        "  return args\n",
        "\n",
        "print(argumentos_dinamicos(1, \"hola\", True, True, False))"
      ],
      "metadata": {
        "colab": {
          "base_uri": "https://localhost:8080/"
        },
        "id": "l8lIRdsA2TL7",
        "outputId": "eff98d19-6084-4db4-f7e2-14175b3de41d"
      },
      "execution_count": 38,
      "outputs": [
        {
          "output_type": "stream",
          "name": "stdout",
          "text": [
            "(1, 'hola', True, True, False)\n"
          ]
        }
      ]
    },
    {
      "cell_type": "code",
      "source": [
        "def resta(a, b):\n",
        "  return a - b\n",
        "\n",
        "print(resta(30, 10))\n",
        "print(resta(b=30, a=10))"
      ],
      "metadata": {
        "colab": {
          "base_uri": "https://localhost:8080/"
        },
        "id": "mDIstUDI4V4k",
        "outputId": "573b6e94-b720-4660-88a7-28d480836009"
      },
      "execution_count": 40,
      "outputs": [
        {
          "output_type": "stream",
          "name": "stdout",
          "text": [
            "20\n",
            "-20\n"
          ]
        }
      ]
    },
    {
      "cell_type": "code",
      "source": [
        "def jugando_con_retornos():\n",
        "  print(\"hola\")\n",
        "  return\n",
        "  print(\"chao\")\n",
        "  print(\"chao\")\n",
        "  print(\"chao\")\n",
        "\n",
        "jugando_con_retornos()"
      ],
      "metadata": {
        "colab": {
          "base_uri": "https://localhost:8080/"
        },
        "id": "6psxdT2v5QGz",
        "outputId": "e620ea0d-a77f-4119-858f-f48af0c995ae"
      },
      "execution_count": 44,
      "outputs": [
        {
          "output_type": "stream",
          "name": "stdout",
          "text": [
            "hola\n"
          ]
        }
      ]
    },
    {
      "cell_type": "code",
      "source": [
        "def resta(a=5, b=6): #valores default, cuando no se definen\n",
        "  if a == None or b == None:\n",
        "    return\n",
        "  return a - b\n",
        "\n",
        "print(resta())"
      ],
      "metadata": {
        "colab": {
          "base_uri": "https://localhost:8080/"
        },
        "id": "lj5ovGzs5i88",
        "outputId": "69784a23-5605-4a8a-f2a9-3ad6e14aae55"
      },
      "execution_count": 49,
      "outputs": [
        {
          "output_type": "stream",
          "name": "stdout",
          "text": [
            "-1\n"
          ]
        }
      ]
    }
  ]
}