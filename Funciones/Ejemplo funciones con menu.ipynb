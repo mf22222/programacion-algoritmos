{
  "nbformat": 4,
  "nbformat_minor": 0,
  "metadata": {
    "colab": {
      "name": "Funciones.ipynb",
      "provenance": []
    },
    "kernelspec": {
      "name": "python3",
      "display_name": "Python 3"
    },
    "language_info": {
      "name": "python"
    }
  },
  "cells": [
    {
      "cell_type": "markdown",
      "source": [
        "# Repaso"
      ],
      "metadata": {
        "id": "Vc1xNZsFM79s"
      }
    },
    {
      "cell_type": "code",
      "execution_count": 11,
      "metadata": {
        "colab": {
          "base_uri": "https://localhost:8080/"
        },
        "id": "tGgOs8QhLwjM",
        "outputId": "efff8bb4-7a81-4ac3-bc18-44954f535907"
      },
      "outputs": [
        {
          "output_type": "stream",
          "name": "stdout",
          "text": [
            "hola\n",
            "None\n"
          ]
        }
      ],
      "source": [
        "def suma(n1, n2):\n",
        "  variable = n1 + n2\n",
        "  print(\"hola\")\n",
        "  # esto es un recordatorio\n",
        "  # chao\n",
        "  \n",
        "\n",
        "\n",
        "print(suma(2, 5))"
      ]
    },
    {
      "cell_type": "code",
      "source": [
        "cafes = [\n",
        "  [\"Espresso\", 1500],\n",
        "  [\"Capuchino\", 1800],\n",
        "  [\"Late\", 1600],\n",
        "  [\"Moca\", 1700],\n",
        "]\n",
        "\n",
        "def menu():\n",
        "  contador = 0\n",
        "  while contador < len(cafes):\n",
        "    print(f\"{contador + 1}.\\tAñadir {cafes[contador][0]}\\t${cafes[contador][1]}\")\n",
        "    contador += 1\n",
        "  print(\"0.\\tPasar a pagar\")\n",
        "  \n",
        "def total_pagar(orden):\n",
        "  suma = 0\n",
        "  for item in orden:\n",
        "    suma += item[1]\n",
        "\n",
        "  if suma >= 3000:\n",
        "    print(\"Descuento del 10% aplicado\")\n",
        "    suma = suma * 0.9\n",
        "  return suma\n",
        "\n",
        "opcion = -1\n",
        "pedido = []\n",
        "while opcion != 0:\n",
        "  menu()\n",
        "  try:\n",
        "    opcion = int(input(\">\"))\n",
        "  except:\n",
        "    opcion = -1\n",
        "    print(\"Valor no valido\")\n",
        "  \n",
        "  if opcion >= 1 and opcion <= 4:\n",
        "    pedido.append(cafes[opcion - 1])\n",
        "\n",
        "print(f\"TOTAL: {total_pagar(pedido)}\")"
      ],
      "metadata": {
        "colab": {
          "base_uri": "https://localhost:8080/"
        },
        "id": "ZxEoLkcdQOuH",
        "outputId": "b1bd91b6-2881-49bd-c86f-b7f667531e86"
      },
      "execution_count": 23,
      "outputs": [
        {
          "output_type": "stream",
          "name": "stdout",
          "text": [
            "1.\tAñadir Espresso\t$1500\n",
            "2.\tAñadir Capuchino\t$1800\n",
            "3.\tAñadir Late\t$1600\n",
            "4.\tAñadir Moca\t$1700\n",
            "0.\tPasar a pagar\n",
            ">1\n",
            "1.\tAñadir Espresso\t$1500\n",
            "2.\tAñadir Capuchino\t$1800\n",
            "3.\tAñadir Late\t$1600\n",
            "4.\tAñadir Moca\t$1700\n",
            "0.\tPasar a pagar\n",
            ">1\n",
            "1.\tAñadir Espresso\t$1500\n",
            "2.\tAñadir Capuchino\t$1800\n",
            "3.\tAñadir Late\t$1600\n",
            "4.\tAñadir Moca\t$1700\n",
            "0.\tPasar a pagar\n",
            ">0\n",
            "Descuento del 10% aplicado\n",
            "TOTAL: 2700.0\n"
          ]
        }
      ]
    },
    {
      "cell_type": "code",
      "source": [
        ""
      ],
      "metadata": {
        "id": "PqtUtkhQQwbL"
      },
      "execution_count": null,
      "outputs": []
    }
  ]
}