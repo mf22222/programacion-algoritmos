{
  "nbformat": 4,
  "nbformat_minor": 0,
  "metadata": {
    "colab": {
      "name": "Ejercicio.ipynb",
      "provenance": [],
      "collapsed_sections": []
    },
    "kernelspec": {
      "name": "python3",
      "display_name": "Python 3"
    },
    "language_info": {
      "name": "python"
    }
  },
  "cells": [
    {
      "cell_type": "code",
      "execution_count": 1,
      "metadata": {
        "id": "uF_hPrtzPZVg"
      },
      "outputs": [],
      "source": [
        "def calcular_iva(precio_producto):\n",
        "  return 0.19 * precio_producto\n",
        "\n",
        "def descuento(precio_producto, dcto):# verificar rango del valor\n",
        "  if dcto < 0 or dcto > 100:\n",
        "    print(\"Porcentaje de descuento no valido, debe ser en el rango 0-100%\")\n",
        "    return\n",
        "  return precio_producto*(1-(dcto/100))\n",
        "\n",
        "def calcular_imc(peso, estatura):\n",
        "  imc = peso/(estatura**2)\n",
        "  print(f\"IMC: {imc}\")\n",
        "  if imc < 18.5:\n",
        "    print(\"Bajo peso\")\n",
        "  elif imc >= 18.5 and imc < 24.9:\n",
        "    print(\"Adecuado\")\n",
        "  elif imc >= 25 and imc < 29.9:\n",
        "    print(\"Sobrepeso\")\n",
        "  elif imc > 30:\n",
        "    print(\"Obesidad\")\n",
        "\n",
        "def print_menu():\n",
        "  print(\"1. Calcular IVA\")\n",
        "  print(\"2. Calcular descuento\")\n",
        "  print(\"3. Calcular IMC\")\n",
        "  print(\"4. Salir\")\n",
        "\n",
        "precio = 0\n",
        "opcion = -1\n",
        "while opcion != 4:\n",
        "  print_menu()\n",
        "  try:\n",
        "    opcion = int(input(\">\"))\n",
        "  except:\n",
        "    opcion = -1\n",
        "    print(\"El valor debe ser un número\")\n",
        "  \n",
        "  if opcion == 1:\n",
        "    if precio == 0:\n",
        "      precio = int(input(\"Ingresar valor del producto\"))\n",
        "    calcular_iva(precio)\n",
        "  elif opcion == 2:\n",
        "    if precio == 0:\n",
        "      precio = int(input(\"Ingresar valor del producto\"))\n",
        "    dcto = int(input(\"Ingresar descuento del producto\"))\n",
        "    precio = descuento(precio, dcto)\n",
        "  elif opcion == 3:\n",
        "    peso = int(input(\"Peso >\"))\n",
        "    estatura = int(input(\"Estatura >\"))\n",
        "    calcular_imc(peso, estatura)"
      ]
    }
  ]
}